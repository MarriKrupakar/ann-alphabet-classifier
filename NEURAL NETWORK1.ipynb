{
 "cells": [
  {
   "cell_type": "code",
   "execution_count": 2,
   "id": "592799bb",
   "metadata": {},
   "outputs": [],
   "source": [
    "import numpy as np\n",
    "import pandas as pd\n",
    "import matplotlib.pyplot as plt\n",
    "import seaborn as sns\n",
    "from sklearn.model_selection import train_test_split\n",
    "from sklearn.preprocessing import LabelEncoder, MinMaxScaler\n",
    "from tensorflow.keras.models import Sequential\n",
    "from tensorflow.keras.layers import Dense\n",
    "from tensorflow.keras.optimizers import Adam\n",
    "from tensorflow.keras.utils import to_categorical\n",
    "from sklearn.metrics import accuracy_score, classification_report\n"
   ]
  },
  {
   "cell_type": "code",
   "execution_count": 3,
   "id": "2b94e2f4",
   "metadata": {},
   "outputs": [],
   "source": [
    "file_path = r\"Alphabets_data.csv\"\n",
    "df = pd.read_csv(file_path)\n",
    "label_encoder = LabelEncoder()\n",
    "df[\"letter\"] = label_encoder.fit_transform(df[\"letter\"])  # Convert A-Z to 0-25\n",
    "scaler = MinMaxScaler()\n",
    "X = scaler.fit_transform(df.drop(columns=[\"letter\"]))\n",
    "y = df[\"letter\"]  # Encoded labels\n",
    "y = to_categorical(y, num_classes=26)\n",
    "X_train, X_test, y_train, y_test = train_test_split(X, y, test_size=0.2, random_state=42, stratify=y)\n"
   ]
  },
  {
   "cell_type": "code",
   "execution_count": 4,
   "id": "ca470cff",
   "metadata": {},
   "outputs": [
    {
     "name": "stderr",
     "output_type": "stream",
     "text": [
      "C:\\Users\\marri\\AppData\\Roaming\\Python\\Python311\\site-packages\\keras\\src\\layers\\core\\dense.py:87: UserWarning: Do not pass an `input_shape`/`input_dim` argument to a layer. When using Sequential models, prefer using an `Input(shape)` object as the first layer in the model instead.\n",
      "  super().__init__(activity_regularizer=activity_regularizer, **kwargs)\n"
     ]
    },
    {
     "name": "stdout",
     "output_type": "stream",
     "text": [
      "Epoch 1/20\n",
      "\u001b[1m500/500\u001b[0m \u001b[32m━━━━━━━━━━━━━━━━━━━━\u001b[0m\u001b[37m\u001b[0m \u001b[1m4s\u001b[0m 4ms/step - accuracy: 0.2543 - loss: 2.7480 - val_accuracy: 0.6037 - val_loss: 1.5075\n",
      "Epoch 2/20\n",
      "\u001b[1m500/500\u001b[0m \u001b[32m━━━━━━━━━━━━━━━━━━━━\u001b[0m\u001b[37m\u001b[0m \u001b[1m2s\u001b[0m 3ms/step - accuracy: 0.6000 - loss: 1.4267 - val_accuracy: 0.6650 - val_loss: 1.2235\n",
      "Epoch 3/20\n",
      "\u001b[1m500/500\u001b[0m \u001b[32m━━━━━━━━━━━━━━━━━━━━\u001b[0m\u001b[37m\u001b[0m \u001b[1m2s\u001b[0m 3ms/step - accuracy: 0.6669 - loss: 1.2006 - val_accuracy: 0.6950 - val_loss: 1.1102\n",
      "Epoch 4/20\n",
      "\u001b[1m500/500\u001b[0m \u001b[32m━━━━━━━━━━━━━━━━━━━━\u001b[0m\u001b[37m\u001b[0m \u001b[1m2s\u001b[0m 3ms/step - accuracy: 0.7001 - loss: 1.0939 - val_accuracy: 0.7063 - val_loss: 1.0323\n",
      "Epoch 5/20\n",
      "\u001b[1m500/500\u001b[0m \u001b[32m━━━━━━━━━━━━━━━━━━━━\u001b[0m\u001b[37m\u001b[0m \u001b[1m2s\u001b[0m 3ms/step - accuracy: 0.7199 - loss: 1.0075 - val_accuracy: 0.7372 - val_loss: 0.9529\n",
      "Epoch 6/20\n",
      "\u001b[1m500/500\u001b[0m \u001b[32m━━━━━━━━━━━━━━━━━━━━\u001b[0m\u001b[37m\u001b[0m \u001b[1m2s\u001b[0m 3ms/step - accuracy: 0.7356 - loss: 0.9404 - val_accuracy: 0.7465 - val_loss: 0.8965\n",
      "Epoch 7/20\n",
      "\u001b[1m500/500\u001b[0m \u001b[32m━━━━━━━━━━━━━━━━━━━━\u001b[0m\u001b[37m\u001b[0m \u001b[1m2s\u001b[0m 3ms/step - accuracy: 0.7478 - loss: 0.8958 - val_accuracy: 0.7600 - val_loss: 0.8566\n",
      "Epoch 8/20\n",
      "\u001b[1m500/500\u001b[0m \u001b[32m━━━━━━━━━━━━━━━━━━━━\u001b[0m\u001b[37m\u001b[0m \u001b[1m2s\u001b[0m 3ms/step - accuracy: 0.7635 - loss: 0.8464 - val_accuracy: 0.7820 - val_loss: 0.8025\n",
      "Epoch 9/20\n",
      "\u001b[1m500/500\u001b[0m \u001b[32m━━━━━━━━━━━━━━━━━━━━\u001b[0m\u001b[37m\u001b[0m \u001b[1m2s\u001b[0m 3ms/step - accuracy: 0.7771 - loss: 0.8048 - val_accuracy: 0.7847 - val_loss: 0.7670\n",
      "Epoch 10/20\n",
      "\u001b[1m500/500\u001b[0m \u001b[32m━━━━━━━━━━━━━━━━━━━━\u001b[0m\u001b[37m\u001b[0m \u001b[1m2s\u001b[0m 3ms/step - accuracy: 0.7817 - loss: 0.7701 - val_accuracy: 0.7945 - val_loss: 0.7385\n",
      "Epoch 11/20\n",
      "\u001b[1m500/500\u001b[0m \u001b[32m━━━━━━━━━━━━━━━━━━━━\u001b[0m\u001b[37m\u001b[0m \u001b[1m1s\u001b[0m 3ms/step - accuracy: 0.7931 - loss: 0.7334 - val_accuracy: 0.7965 - val_loss: 0.7134\n",
      "Epoch 12/20\n",
      "\u001b[1m500/500\u001b[0m \u001b[32m━━━━━━━━━━━━━━━━━━━━\u001b[0m\u001b[37m\u001b[0m \u001b[1m2s\u001b[0m 3ms/step - accuracy: 0.8000 - loss: 0.7020 - val_accuracy: 0.8085 - val_loss: 0.6602\n",
      "Epoch 13/20\n",
      "\u001b[1m500/500\u001b[0m \u001b[32m━━━━━━━━━━━━━━━━━━━━\u001b[0m\u001b[37m\u001b[0m \u001b[1m3s\u001b[0m 3ms/step - accuracy: 0.8094 - loss: 0.6657 - val_accuracy: 0.8130 - val_loss: 0.6486\n",
      "Epoch 14/20\n",
      "\u001b[1m500/500\u001b[0m \u001b[32m━━━━━━━━━━━━━━━━━━━━\u001b[0m\u001b[37m\u001b[0m \u001b[1m2s\u001b[0m 3ms/step - accuracy: 0.8152 - loss: 0.6376 - val_accuracy: 0.8223 - val_loss: 0.6216\n",
      "Epoch 15/20\n",
      "\u001b[1m500/500\u001b[0m \u001b[32m━━━━━━━━━━━━━━━━━━━━\u001b[0m\u001b[37m\u001b[0m \u001b[1m1s\u001b[0m 3ms/step - accuracy: 0.8204 - loss: 0.6095 - val_accuracy: 0.8223 - val_loss: 0.6068\n",
      "Epoch 16/20\n",
      "\u001b[1m500/500\u001b[0m \u001b[32m━━━━━━━━━━━━━━━━━━━━\u001b[0m\u001b[37m\u001b[0m \u001b[1m2s\u001b[0m 3ms/step - accuracy: 0.8301 - loss: 0.5850 - val_accuracy: 0.8340 - val_loss: 0.5749\n",
      "Epoch 17/20\n",
      "\u001b[1m500/500\u001b[0m \u001b[32m━━━━━━━━━━━━━━━━━━━━\u001b[0m\u001b[37m\u001b[0m \u001b[1m1s\u001b[0m 3ms/step - accuracy: 0.8345 - loss: 0.5669 - val_accuracy: 0.8365 - val_loss: 0.5608\n",
      "Epoch 18/20\n",
      "\u001b[1m500/500\u001b[0m \u001b[32m━━━━━━━━━━━━━━━━━━━━\u001b[0m\u001b[37m\u001b[0m \u001b[1m2s\u001b[0m 3ms/step - accuracy: 0.8453 - loss: 0.5257 - val_accuracy: 0.8367 - val_loss: 0.5598\n",
      "Epoch 19/20\n",
      "\u001b[1m500/500\u001b[0m \u001b[32m━━━━━━━━━━━━━━━━━━━━\u001b[0m\u001b[37m\u001b[0m \u001b[1m2s\u001b[0m 3ms/step - accuracy: 0.8464 - loss: 0.5158 - val_accuracy: 0.8403 - val_loss: 0.5332\n",
      "Epoch 20/20\n",
      "\u001b[1m500/500\u001b[0m \u001b[32m━━━━━━━━━━━━━━━━━━━━\u001b[0m\u001b[37m\u001b[0m \u001b[1m2s\u001b[0m 3ms/step - accuracy: 0.8491 - loss: 0.5055 - val_accuracy: 0.8475 - val_loss: 0.5077\n"
     ]
    }
   ],
   "source": [
    "model = Sequential([\n",
    "    Dense(128, activation='relu', input_shape=(X_train.shape[1],)),  # First hidden layer\n",
    "    Dense(64, activation='relu'),  # Second hidden layer\n",
    "    Dense(26, activation='softmax')  # Output layer (26 classes for letters A-Z)\n",
    "])\n",
    "model.compile(optimizer=Adam(learning_rate=0.001), loss='categorical_crossentropy', metrics=['accuracy'])\n",
    "history = model.fit(X_train, y_train, epochs=20, batch_size=32, validation_data=(X_test, y_test), verbose=1)\n"
   ]
  },
  {
   "cell_type": "code",
   "execution_count": 5,
   "id": "9610c8ad",
   "metadata": {},
   "outputs": [
    {
     "name": "stdout",
     "output_type": "stream",
     "text": [
      "\u001b[1m125/125\u001b[0m \u001b[32m━━━━━━━━━━━━━━━━━━━━\u001b[0m\u001b[37m\u001b[0m \u001b[1m0s\u001b[0m 2ms/step   \n",
      "Test Accuracy: 0.848\n",
      "              precision    recall  f1-score   support\n",
      "\n",
      "           A       0.83      0.94      0.88       158\n",
      "           B       0.86      0.83      0.84       153\n",
      "           C       0.93      0.80      0.86       147\n",
      "           D       0.82      0.86      0.84       161\n",
      "           E       0.75      0.86      0.80       154\n",
      "           F       0.78      0.85      0.81       155\n",
      "           G       0.70      0.79      0.74       155\n",
      "           H       0.78      0.66      0.71       147\n",
      "           I       0.94      0.81      0.87       151\n",
      "           J       0.91      0.87      0.89       149\n",
      "           K       0.80      0.81      0.81       148\n",
      "           L       0.88      0.91      0.90       152\n",
      "           M       0.89      0.97      0.93       158\n",
      "           N       0.95      0.89      0.92       157\n",
      "           O       0.84      0.72      0.77       151\n",
      "           P       0.93      0.85      0.89       161\n",
      "           Q       0.88      0.73      0.80       157\n",
      "           R       0.65      0.87      0.74       151\n",
      "           S       0.87      0.72      0.79       149\n",
      "           T       0.86      0.91      0.88       159\n",
      "           U       0.92      0.93      0.92       163\n",
      "           V       0.87      0.91      0.89       153\n",
      "           W       0.89      0.93      0.91       150\n",
      "           X       0.86      0.85      0.86       157\n",
      "           Y       0.94      0.83      0.88       157\n",
      "           Z       0.86      0.93      0.89       147\n",
      "\n",
      "    accuracy                           0.85      4000\n",
      "   macro avg       0.85      0.85      0.85      4000\n",
      "weighted avg       0.85      0.85      0.85      4000\n",
      "\n"
     ]
    }
   ],
   "source": [
    "y_pred = np.argmax(model.predict(X_test), axis=1)\n",
    "y_true = np.argmax(y_test, axis=1)  # Convert one-hot encoding back to label indices\n",
    "accuracy = accuracy_score(y_true, y_pred)\n",
    "print(f\"Test Accuracy: {accuracy:.3f}\")\n",
    "print(classification_report(y_true, y_pred, target_names=label_encoder.classes_))\n"
   ]
  },
  {
   "cell_type": "code",
   "execution_count": 6,
   "id": "4e89d42b",
   "metadata": {},
   "outputs": [
    {
     "name": "stdout",
     "output_type": "stream",
     "text": [
      "Training with neurons=64, learning_rate=0.001\n"
     ]
    },
    {
     "name": "stderr",
     "output_type": "stream",
     "text": [
      "C:\\Users\\marri\\AppData\\Roaming\\Python\\Python311\\site-packages\\keras\\src\\layers\\core\\dense.py:87: UserWarning: Do not pass an `input_shape`/`input_dim` argument to a layer. When using Sequential models, prefer using an `Input(shape)` object as the first layer in the model instead.\n",
      "  super().__init__(activity_regularizer=activity_regularizer, **kwargs)\n"
     ]
    },
    {
     "name": "stdout",
     "output_type": "stream",
     "text": [
      "Accuracy: 0.7383\n",
      "\n",
      "Training with neurons=64, learning_rate=0.0005\n",
      "Accuracy: 0.7003\n",
      "\n",
      "Training with neurons=128, learning_rate=0.001\n",
      "Accuracy: 0.7883\n",
      "\n",
      "Training with neurons=128, learning_rate=0.0005\n",
      "Accuracy: 0.7462\n",
      "\n",
      "Training with neurons=256, learning_rate=0.001\n",
      "Accuracy: 0.8465\n",
      "\n",
      "Training with neurons=256, learning_rate=0.0005\n",
      "Accuracy: 0.7862\n",
      "\n",
      "\n",
      "Best Parameters: {'neurons': 256, 'learning_rate': 0.001}, Best Accuracy: 0.8465\n"
     ]
    }
   ],
   "source": [
    "neurons_list = [64, 128, 256]\n",
    "learning_rates = [0.001, 0.0005]\n",
    "best_score = 0\n",
    "best_params = {}\n",
    "for neurons in neurons_list:\n",
    "    for lr in learning_rates:\n",
    "        print(f\"Training with neurons={neurons}, learning_rate={lr}\")\n",
    "        model = Sequential([\n",
    "            Dense(neurons, activation='relu', input_shape=(X_train.shape[1],)),\n",
    "            Dense(neurons // 2, activation='relu'),\n",
    "            Dense(26, activation='softmax')  # 26 output classes\n",
    "        ])\n",
    "        optimizer = Adam(learning_rate=lr)\n",
    "        model.compile(optimizer=optimizer, loss='categorical_crossentropy', metrics=['accuracy'])\n",
    "        history = model.fit(X_train, y_train, epochs=10, batch_size=32, validation_data=(X_test, y_test), verbose=0)\n",
    "        _, accuracy = model.evaluate(X_test, y_test, verbose=0)\n",
    "        print(f\"Accuracy: {accuracy:.4f}\\n\")\n",
    "        if accuracy > best_score:\n",
    "            best_score = accuracy\n",
    "            best_params = {'neurons': neurons, 'learning_rate': lr}\n",
    "print(f\"\\nBest Parameters: {best_params}, Best Accuracy: {best_score:.4f}\")\n"
   ]
  },
  {
   "cell_type": "code",
   "execution_count": 7,
   "id": "95b89499",
   "metadata": {},
   "outputs": [
    {
     "name": "stdout",
     "output_type": "stream",
     "text": [
      "Training best model with neurons=256, learning_rate=0.001\n",
      "Epoch 1/20\n",
      "\u001b[1m500/500\u001b[0m \u001b[32m━━━━━━━━━━━━━━━━━━━━\u001b[0m\u001b[37m\u001b[0m \u001b[1m4s\u001b[0m 4ms/step - accuracy: 0.3051 - loss: 2.5744 - val_accuracy: 0.6198 - val_loss: 1.2882\n",
      "Epoch 2/20\n",
      "\u001b[1m500/500\u001b[0m \u001b[32m━━━━━━━━━━━━━━━━━━━━\u001b[0m\u001b[37m\u001b[0m \u001b[1m2s\u001b[0m 3ms/step - accuracy: 0.6578 - loss: 1.2264 - val_accuracy: 0.7063 - val_loss: 1.0550\n",
      "Epoch 3/20\n",
      "\u001b[1m500/500\u001b[0m \u001b[32m━━━━━━━━━━━━━━━━━━━━\u001b[0m\u001b[37m\u001b[0m \u001b[1m2s\u001b[0m 3ms/step - accuracy: 0.7214 - loss: 1.0223 - val_accuracy: 0.7638 - val_loss: 0.9005\n",
      "Epoch 4/20\n",
      "\u001b[1m500/500\u001b[0m \u001b[32m━━━━━━━━━━━━━━━━━━━━\u001b[0m\u001b[37m\u001b[0m \u001b[1m2s\u001b[0m 3ms/step - accuracy: 0.7522 - loss: 0.9085 - val_accuracy: 0.7682 - val_loss: 0.8576\n",
      "Epoch 5/20\n",
      "\u001b[1m500/500\u001b[0m \u001b[32m━━━━━━━━━━━━━━━━━━━━\u001b[0m\u001b[37m\u001b[0m \u001b[1m2s\u001b[0m 3ms/step - accuracy: 0.7624 - loss: 0.8427 - val_accuracy: 0.7670 - val_loss: 0.8041\n",
      "Epoch 6/20\n",
      "\u001b[1m500/500\u001b[0m \u001b[32m━━━━━━━━━━━━━━━━━━━━\u001b[0m\u001b[37m\u001b[0m \u001b[1m2s\u001b[0m 4ms/step - accuracy: 0.7788 - loss: 0.7742 - val_accuracy: 0.7985 - val_loss: 0.7182\n",
      "Epoch 7/20\n",
      "\u001b[1m500/500\u001b[0m \u001b[32m━━━━━━━━━━━━━━━━━━━━\u001b[0m\u001b[37m\u001b[0m \u001b[1m2s\u001b[0m 4ms/step - accuracy: 0.7976 - loss: 0.7108 - val_accuracy: 0.8108 - val_loss: 0.6672\n",
      "Epoch 8/20\n",
      "\u001b[1m500/500\u001b[0m \u001b[32m━━━━━━━━━━━━━━━━━━━━\u001b[0m\u001b[37m\u001b[0m \u001b[1m2s\u001b[0m 3ms/step - accuracy: 0.8127 - loss: 0.6512 - val_accuracy: 0.8213 - val_loss: 0.6220\n",
      "Epoch 9/20\n",
      "\u001b[1m500/500\u001b[0m \u001b[32m━━━━━━━━━━━━━━━━━━━━\u001b[0m\u001b[37m\u001b[0m \u001b[1m2s\u001b[0m 4ms/step - accuracy: 0.8177 - loss: 0.6217 - val_accuracy: 0.8390 - val_loss: 0.5768\n",
      "Epoch 10/20\n",
      "\u001b[1m500/500\u001b[0m \u001b[32m━━━━━━━━━━━━━━━━━━━━\u001b[0m\u001b[37m\u001b[0m \u001b[1m2s\u001b[0m 4ms/step - accuracy: 0.8274 - loss: 0.5764 - val_accuracy: 0.8395 - val_loss: 0.5492\n",
      "Epoch 11/20\n",
      "\u001b[1m500/500\u001b[0m \u001b[32m━━━━━━━━━━━━━━━━━━━━\u001b[0m\u001b[37m\u001b[0m \u001b[1m2s\u001b[0m 4ms/step - accuracy: 0.8472 - loss: 0.5190 - val_accuracy: 0.8350 - val_loss: 0.5306\n",
      "Epoch 12/20\n",
      "\u001b[1m500/500\u001b[0m \u001b[32m━━━━━━━━━━━━━━━━━━━━\u001b[0m\u001b[37m\u001b[0m \u001b[1m2s\u001b[0m 3ms/step - accuracy: 0.8529 - loss: 0.4959 - val_accuracy: 0.8518 - val_loss: 0.4822\n",
      "Epoch 13/20\n",
      "\u001b[1m500/500\u001b[0m \u001b[32m━━━━━━━━━━━━━━━━━━━━\u001b[0m\u001b[37m\u001b[0m \u001b[1m2s\u001b[0m 3ms/step - accuracy: 0.8649 - loss: 0.4481 - val_accuracy: 0.8650 - val_loss: 0.4460\n",
      "Epoch 14/20\n",
      "\u001b[1m500/500\u001b[0m \u001b[32m━━━━━━━━━━━━━━━━━━━━\u001b[0m\u001b[37m\u001b[0m \u001b[1m2s\u001b[0m 3ms/step - accuracy: 0.8742 - loss: 0.4181 - val_accuracy: 0.8625 - val_loss: 0.4377\n",
      "Epoch 15/20\n",
      "\u001b[1m500/500\u001b[0m \u001b[32m━━━━━━━━━━━━━━━━━━━━\u001b[0m\u001b[37m\u001b[0m \u001b[1m2s\u001b[0m 3ms/step - accuracy: 0.8803 - loss: 0.3951 - val_accuracy: 0.8755 - val_loss: 0.4131\n",
      "Epoch 16/20\n",
      "\u001b[1m500/500\u001b[0m \u001b[32m━━━━━━━━━━━━━━━━━━━━\u001b[0m\u001b[37m\u001b[0m \u001b[1m2s\u001b[0m 3ms/step - accuracy: 0.8798 - loss: 0.3871 - val_accuracy: 0.8645 - val_loss: 0.4205\n",
      "Epoch 17/20\n",
      "\u001b[1m500/500\u001b[0m \u001b[32m━━━━━━━━━━━━━━━━━━━━\u001b[0m\u001b[37m\u001b[0m \u001b[1m2s\u001b[0m 3ms/step - accuracy: 0.8887 - loss: 0.3565 - val_accuracy: 0.8873 - val_loss: 0.3683\n",
      "Epoch 18/20\n",
      "\u001b[1m500/500\u001b[0m \u001b[32m━━━━━━━━━━━━━━━━━━━━\u001b[0m\u001b[37m\u001b[0m \u001b[1m2s\u001b[0m 4ms/step - accuracy: 0.8973 - loss: 0.3325 - val_accuracy: 0.8925 - val_loss: 0.3497\n",
      "Epoch 19/20\n",
      "\u001b[1m500/500\u001b[0m \u001b[32m━━━━━━━━━━━━━━━━━━━━\u001b[0m\u001b[37m\u001b[0m \u001b[1m2s\u001b[0m 3ms/step - accuracy: 0.8969 - loss: 0.3256 - val_accuracy: 0.8932 - val_loss: 0.3531\n",
      "Epoch 20/20\n",
      "\u001b[1m500/500\u001b[0m \u001b[32m━━━━━━━━━━━━━━━━━━━━\u001b[0m\u001b[37m\u001b[0m \u001b[1m2s\u001b[0m 4ms/step - accuracy: 0.9075 - loss: 0.3033 - val_accuracy: 0.8910 - val_loss: 0.3412\n",
      "\u001b[1m125/125\u001b[0m \u001b[32m━━━━━━━━━━━━━━━━━━━━\u001b[0m\u001b[37m\u001b[0m \u001b[1m0s\u001b[0m 2ms/step  \n",
      "Best Model Accuracy: 0.891\n",
      "              precision    recall  f1-score   support\n",
      "\n",
      "           A       0.92      0.96      0.94       158\n",
      "           B       0.84      0.88      0.86       153\n",
      "           C       0.86      0.94      0.90       147\n",
      "           D       0.78      0.96      0.86       161\n",
      "           E       0.89      0.81      0.85       154\n",
      "           F       0.89      0.86      0.88       155\n",
      "           G       0.88      0.77      0.82       155\n",
      "           H       0.82      0.70      0.76       147\n",
      "           I       0.93      0.90      0.92       151\n",
      "           J       0.98      0.87      0.92       149\n",
      "           K       0.86      0.89      0.87       148\n",
      "           L       0.94      0.88      0.91       152\n",
      "           M       0.83      0.99      0.90       158\n",
      "           N       0.94      0.92      0.93       157\n",
      "           O       0.89      0.79      0.84       151\n",
      "           P       0.95      0.89      0.92       161\n",
      "           Q       0.90      0.89      0.89       157\n",
      "           R       0.85      0.87      0.86       151\n",
      "           S       0.81      0.92      0.86       149\n",
      "           T       0.89      0.95      0.92       159\n",
      "           U       0.97      0.93      0.95       163\n",
      "           V       0.93      0.92      0.92       153\n",
      "           W       0.88      0.93      0.90       150\n",
      "           X       0.95      0.83      0.88       157\n",
      "           Y       0.93      0.96      0.94       157\n",
      "           Z       0.95      0.97      0.96       147\n",
      "\n",
      "    accuracy                           0.89      4000\n",
      "   macro avg       0.89      0.89      0.89      4000\n",
      "weighted avg       0.89      0.89      0.89      4000\n",
      "\n"
     ]
    }
   ],
   "source": [
    "best_neurons = best_params['neurons']\n",
    "best_lr = best_params['learning_rate']\n",
    "print(f\"Training best model with neurons={best_neurons}, learning_rate={best_lr}\")\n",
    "best_model = Sequential([\n",
    "    Dense(best_neurons, activation='relu', input_shape=(X_train.shape[1],)),\n",
    "    Dense(best_neurons // 2, activation='relu'),\n",
    "    Dense(26, activation='softmax')  # Output layer for 26 classes\n",
    "])\n",
    "optimizer = Adam(learning_rate=best_lr)\n",
    "best_model.compile(optimizer=optimizer, loss='categorical_crossentropy', metrics=['accuracy'])\n",
    "best_model.fit(X_train, y_train, epochs=20, batch_size=32, validation_data=(X_test, y_test), verbose=1)\n",
    "y_pred_best = np.argmax(best_model.predict(X_test), axis=1)\n",
    "y_true_best = np.argmax(y_test, axis=1)\n",
    "accuracy_best = accuracy_score(y_true_best, y_pred_best)\n",
    "print(f\"Best Model Accuracy: {accuracy_best:.3f}\")\n",
    "print(classification_report(y_true_best, y_pred_best, target_names=label_encoder.classes_))\n"
   ]
  },
  {
   "cell_type": "code",
   "execution_count": 8,
   "id": "48732fcc",
   "metadata": {},
   "outputs": [
    {
     "name": "stdout",
     "output_type": "stream",
     "text": [
      "<class 'pandas.core.frame.DataFrame'>\n",
      "RangeIndex: 20000 entries, 0 to 19999\n",
      "Data columns (total 17 columns):\n",
      " #   Column  Non-Null Count  Dtype \n",
      "---  ------  --------------  ----- \n",
      " 0   letter  20000 non-null  object\n",
      " 1   xbox    20000 non-null  int64 \n",
      " 2   ybox    20000 non-null  int64 \n",
      " 3   width   20000 non-null  int64 \n",
      " 4   height  20000 non-null  int64 \n",
      " 5   onpix   20000 non-null  int64 \n",
      " 6   xbar    20000 non-null  int64 \n",
      " 7   ybar    20000 non-null  int64 \n",
      " 8   x2bar   20000 non-null  int64 \n",
      " 9   y2bar   20000 non-null  int64 \n",
      " 10  xybar   20000 non-null  int64 \n",
      " 11  x2ybar  20000 non-null  int64 \n",
      " 12  xy2bar  20000 non-null  int64 \n",
      " 13  xedge   20000 non-null  int64 \n",
      " 14  xedgey  20000 non-null  int64 \n",
      " 15  yedge   20000 non-null  int64 \n",
      " 16  yedgex  20000 non-null  int64 \n",
      "dtypes: int64(16), object(1)\n",
      "memory usage: 2.6+ MB\n"
     ]
    },
    {
     "data": {
      "text/plain": [
       "(None,\n",
       "   letter  xbox  ybox  width  height  onpix  xbar  ybar  x2bar  y2bar  xybar  \\\n",
       " 0      T     2     8      3       5      1     8    13      0      6      6   \n",
       " 1      I     5    12      3       7      2    10     5      5      4     13   \n",
       " 2      D     4    11      6       8      6    10     6      2      6     10   \n",
       " 3      N     7    11      6       6      3     5     9      4      6      4   \n",
       " 4      G     2     1      3       1      1     8     6      6      6      6   \n",
       " \n",
       "    x2ybar  xy2bar  xedge  xedgey  yedge  yedgex  \n",
       " 0      10       8      0       8      0       8  \n",
       " 1       3       9      2       8      4      10  \n",
       " 2       3       7      3       7      3       9  \n",
       " 3       4      10      6      10      2       8  \n",
       " 4       5       9      1       7      5      10  )"
      ]
     },
     "execution_count": 8,
     "metadata": {},
     "output_type": "execute_result"
    }
   ],
   "source": [
    "df = pd.read_csv(r\"Alphabets_data.csv\")\n",
    "df.info(), df.head()\n"
   ]
  },
  {
   "cell_type": "code",
   "execution_count": null,
   "id": "e56ea73f",
   "metadata": {},
   "outputs": [],
   "source": []
  }
 ],
 "metadata": {
  "kernelspec": {
   "display_name": "Python [conda env:base] *",
   "language": "python",
   "name": "conda-base-py"
  },
  "language_info": {
   "codemirror_mode": {
    "name": "ipython",
    "version": 3
   },
   "file_extension": ".py",
   "mimetype": "text/x-python",
   "name": "python",
   "nbconvert_exporter": "python",
   "pygments_lexer": "ipython3",
   "version": "3.11.5"
  }
 },
 "nbformat": 4,
 "nbformat_minor": 5
}
